{
 "cells": [
  {
   "cell_type": "code",
   "id": "initial_id",
   "metadata": {
    "collapsed": true,
    "ExecuteTime": {
     "end_time": "2025-03-28T14:29:23.623239Z",
     "start_time": "2025-03-28T14:29:23.618082Z"
    }
   },
   "source": [
    "import numpy as np\n",
    "import pandas as pd\n",
    "import matplotlib.pyplot as plt\n",
    "import seaborn as sns\n",
    "sns.set(style=\"darkgrid\")\n",
    "np.random.seed(42)"
   ],
   "outputs": [],
   "execution_count": 1
  },
  {
   "metadata": {
    "ExecuteTime": {
     "end_time": "2025-03-28T14:29:27.223627Z",
     "start_time": "2025-03-28T14:29:27.216054Z"
    }
   },
   "cell_type": "code",
   "source": [
    "# Generamos una serie temporal\n",
    "# Parámetros\n",
    "dias = pd.date_range(start=\"2024-01-01\", periods=365, freq=\"D\")\n",
    "a0 = 80  # Componente constante\n",
    "a1 = 60 * np.cos(2 * np.pi * np.arange(365) / 365)  # Componente de tendencia, amplitud 60 (vertical), 1 ciclo\n",
    "a2 = 15 * np.sin(2 * np.pi * np.arange(365) * 14 / 365)  # Componente estacional, amplitud 15 (vertical), 14 ciclos\n",
    "ruido = np.random.normal(0, 12, len(dias))  # Ruido aleatorio, std error 12\n",
    "\n",
    "# Serie combinada\n",
    "serie_temporal = pd.Series(a0 + a1 + a2 + ruido, index=dias)\n",
    "\n",
    "# Filtros\n",
    "ma7 = serie_temporal.rolling(window=7, center=True).mean()\n",
    "\n",
    "residual_ma7 = serie_temporal - ma7\n",
    "\n",
    "ma21 = serie_temporal.rolling(window=21, center=True).mean()\n",
    "\n",
    "residual_ma21 = serie_temporal - ma21\n",
    "\n",
    "residual_ma21_ma7 = ma7 - ma21"
   ],
   "id": "57a8ba59a0ba46b",
   "outputs": [],
   "execution_count": 2
  },
  {
   "metadata": {},
   "cell_type": "code",
   "outputs": [],
   "execution_count": null,
   "source": "",
   "id": "18bac09afb9217f9"
  }
 ],
 "metadata": {
  "kernelspec": {
   "display_name": "Python 3",
   "language": "python",
   "name": "python3"
  },
  "language_info": {
   "codemirror_mode": {
    "name": "ipython",
    "version": 2
   },
   "file_extension": ".py",
   "mimetype": "text/x-python",
   "name": "python",
   "nbconvert_exporter": "python",
   "pygments_lexer": "ipython2",
   "version": "2.7.6"
  }
 },
 "nbformat": 4,
 "nbformat_minor": 5
}
