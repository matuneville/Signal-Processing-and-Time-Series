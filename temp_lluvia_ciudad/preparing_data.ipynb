{
 "cells": [
  {
   "cell_type": "code",
   "id": "initial_id",
   "metadata": {
    "collapsed": true,
    "ExecuteTime": {
     "end_time": "2025-03-13T18:26:10.649145Z",
     "start_time": "2025-03-13T18:26:10.646217Z"
    }
   },
   "source": "import pandas as pd",
   "outputs": [],
   "execution_count": 30
  },
  {
   "metadata": {
    "ExecuteTime": {
     "end_time": "2025-03-13T18:26:10.852153Z",
     "start_time": "2025-03-13T18:26:10.693778Z"
    }
   },
   "cell_type": "code",
   "source": [
    "df_temps = pd.read_csv('../data/historico_temperaturas.csv', sep=';')\n",
    "df_prec = pd.read_csv('../data/historico_precipitaciones.csv', sep=';')"
   ],
   "id": "21de12554ae7093f",
   "outputs": [],
   "execution_count": 31
  },
  {
   "metadata": {
    "ExecuteTime": {
     "end_time": "2025-03-13T18:26:10.981056Z",
     "start_time": "2025-03-13T18:26:10.873369Z"
    }
   },
   "cell_type": "code",
   "source": [
    "print(df_prec.info())\n",
    "print(df_temps.info())"
   ],
   "id": "1c27fcfafb4ec50",
   "outputs": [
    {
     "name": "stdout",
     "output_type": "stream",
     "text": [
      "<class 'pandas.core.frame.DataFrame'>\n",
      "RangeIndex: 354 entries, 0 to 353\n",
      "Data columns (total 4 columns):\n",
      " #   Column  Non-Null Count  Dtype \n",
      "---  ------  --------------  ----- \n",
      " 0   anio    354 non-null    int64 \n",
      " 1   mes     354 non-null    object\n",
      " 2   mm      354 non-null    object\n",
      " 3   dias    354 non-null    int64 \n",
      "dtypes: int64(2), object(2)\n",
      "memory usage: 11.2+ KB\n",
      "None\n",
      "<class 'pandas.core.frame.DataFrame'>\n",
      "RangeIndex: 354 entries, 0 to 353\n",
      "Data columns (total 5 columns):\n",
      " #   Column  Non-Null Count  Dtype \n",
      "---  ------  --------------  ----- \n",
      " 0   anio    354 non-null    int64 \n",
      " 1   mes     354 non-null    object\n",
      " 2   máxima  354 non-null    object\n",
      " 3   mínima  354 non-null    object\n",
      " 4   media   354 non-null    object\n",
      "dtypes: int64(1), object(4)\n",
      "memory usage: 14.0+ KB\n",
      "None\n"
     ]
    }
   ],
   "execution_count": 32
  },
  {
   "metadata": {
    "ExecuteTime": {
     "end_time": "2025-03-13T18:26:11.133650Z",
     "start_time": "2025-03-13T18:26:11.002072Z"
    }
   },
   "cell_type": "code",
   "source": [
    "print(df_temps.head())\n",
    "print(df_prec.head())"
   ],
   "id": "9cd823e87bf133d8",
   "outputs": [
    {
     "name": "stdout",
     "output_type": "stream",
     "text": [
      "   anio      mes máxima mínima  media\n",
      "0  1991    Enero   28,4   19,8   24,1\n",
      "1  1991  Febrero   27,8   17,8   22,8\n",
      "2  1991    Marzo   27,6   18,4     23\n",
      "3  1991    Abril   22,4   13,6     18\n",
      "4  1991     Mayo   20,7   12,2  16,45\n",
      "   anio      mes      mm  dias\n",
      "0  1991    enero  190,00     7\n",
      "1  1991  febrero   30,50     6\n",
      "2  1991    marzo   55,00     8\n",
      "3  1991    abril  125,60    12\n",
      "4  1991     mayo   68,40     7\n"
     ]
    }
   ],
   "execution_count": 33
  },
  {
   "metadata": {
    "ExecuteTime": {
     "end_time": "2025-03-13T18:26:11.246126Z",
     "start_time": "2025-03-13T18:26:11.153102Z"
    }
   },
   "cell_type": "code",
   "source": [
    "month_map = {\n",
    "    \"enero\": \"01\", \"febrero\": \"02\", \"marzo\": \"03\", \"abril\": \"04\",\n",
    "    \"mayo\": \"05\", \"junio\": \"06\", \"julio\": \"07\", \"agosto\": \"08\",\n",
    "    \"septiembre\": \"09\", \"octubre\": \"10\", \"noviembre\": \"11\", \"diciembre\": \"12\"\n",
    "}\n",
    "\n",
    "def create_date_column(df, anio_col=\"anio\", mes_col=\"mes\"):\n",
    "    df = df.copy()\n",
    "    df[mes_col] = df[mes_col].str.lower().str.strip()  # Normalize month names\n",
    "    df[\"date\"] = df[anio_col].astype(str) + \"-\" + df[mes_col].map(month_map)\n",
    "    df[\"date\"] = pd.to_datetime(df[\"date\"], format=\"%Y-%m\")  # Convert to datetime\n",
    "    return df\n",
    "\n",
    "# Apply the function to both DataFrames\n",
    "df_prec = create_date_column(df_prec)\n",
    "df_temps = create_date_column(df_temps)"
   ],
   "id": "63af52ad40ad19cf",
   "outputs": [],
   "execution_count": 34
  },
  {
   "metadata": {
    "ExecuteTime": {
     "end_time": "2025-03-13T18:26:11.357143Z",
     "start_time": "2025-03-13T18:26:11.263195Z"
    }
   },
   "cell_type": "code",
   "source": [
    "df_combined = pd.merge(df_prec.drop(columns=[\"anio\", \"mes\"]),\n",
    "                       df_temps.drop(columns=[\"anio\", \"mes\"]),\n",
    "                       on=\"date\", how=\"inner\")\n",
    "\n",
    "df_combined.head()"
   ],
   "id": "6e438c0277324217",
   "outputs": [
    {
     "data": {
      "text/plain": [
       "       mm  dias       date máxima mínima  media\n",
       "0  190,00     7 1991-01-01   28,4   19,8   24,1\n",
       "1   30,50     6 1991-02-01   27,8   17,8   22,8\n",
       "2   55,00     8 1991-03-01   27,6   18,4     23\n",
       "3  125,60    12 1991-04-01   22,4   13,6     18\n",
       "4   68,40     7 1991-05-01   20,7   12,2  16,45"
      ],
      "text/html": [
       "<div>\n",
       "<style scoped>\n",
       "    .dataframe tbody tr th:only-of-type {\n",
       "        vertical-align: middle;\n",
       "    }\n",
       "\n",
       "    .dataframe tbody tr th {\n",
       "        vertical-align: top;\n",
       "    }\n",
       "\n",
       "    .dataframe thead th {\n",
       "        text-align: right;\n",
       "    }\n",
       "</style>\n",
       "<table border=\"1\" class=\"dataframe\">\n",
       "  <thead>\n",
       "    <tr style=\"text-align: right;\">\n",
       "      <th></th>\n",
       "      <th>mm</th>\n",
       "      <th>dias</th>\n",
       "      <th>date</th>\n",
       "      <th>máxima</th>\n",
       "      <th>mínima</th>\n",
       "      <th>media</th>\n",
       "    </tr>\n",
       "  </thead>\n",
       "  <tbody>\n",
       "    <tr>\n",
       "      <th>0</th>\n",
       "      <td>190,00</td>\n",
       "      <td>7</td>\n",
       "      <td>1991-01-01</td>\n",
       "      <td>28,4</td>\n",
       "      <td>19,8</td>\n",
       "      <td>24,1</td>\n",
       "    </tr>\n",
       "    <tr>\n",
       "      <th>1</th>\n",
       "      <td>30,50</td>\n",
       "      <td>6</td>\n",
       "      <td>1991-02-01</td>\n",
       "      <td>27,8</td>\n",
       "      <td>17,8</td>\n",
       "      <td>22,8</td>\n",
       "    </tr>\n",
       "    <tr>\n",
       "      <th>2</th>\n",
       "      <td>55,00</td>\n",
       "      <td>8</td>\n",
       "      <td>1991-03-01</td>\n",
       "      <td>27,6</td>\n",
       "      <td>18,4</td>\n",
       "      <td>23</td>\n",
       "    </tr>\n",
       "    <tr>\n",
       "      <th>3</th>\n",
       "      <td>125,60</td>\n",
       "      <td>12</td>\n",
       "      <td>1991-04-01</td>\n",
       "      <td>22,4</td>\n",
       "      <td>13,6</td>\n",
       "      <td>18</td>\n",
       "    </tr>\n",
       "    <tr>\n",
       "      <th>4</th>\n",
       "      <td>68,40</td>\n",
       "      <td>7</td>\n",
       "      <td>1991-05-01</td>\n",
       "      <td>20,7</td>\n",
       "      <td>12,2</td>\n",
       "      <td>16,45</td>\n",
       "    </tr>\n",
       "  </tbody>\n",
       "</table>\n",
       "</div>"
      ]
     },
     "execution_count": 35,
     "metadata": {},
     "output_type": "execute_result"
    }
   ],
   "execution_count": 35
  },
  {
   "metadata": {
    "ExecuteTime": {
     "end_time": "2025-03-13T18:26:11.464106Z",
     "start_time": "2025-03-13T18:26:11.407212Z"
    }
   },
   "cell_type": "code",
   "source": [
    "df_combined = df_combined.rename(columns={\n",
    "    \"mm\": \"precipitation_mm\",\n",
    "    \"dias\": \"rainy_days\",\n",
    "    \"máxima\": \"max_temp\",\n",
    "    \"mínima\": \"min_temp\",\n",
    "    \"media\": \"avg_temp\"\n",
    "})\n",
    "\n",
    "df_combined.head()"
   ],
   "id": "37e3e291d6340d59",
   "outputs": [
    {
     "data": {
      "text/plain": [
       "  precipitation_mm  rainy_days       date max_temp min_temp avg_temp\n",
       "0           190,00           7 1991-01-01     28,4     19,8     24,1\n",
       "1            30,50           6 1991-02-01     27,8     17,8     22,8\n",
       "2            55,00           8 1991-03-01     27,6     18,4       23\n",
       "3           125,60          12 1991-04-01     22,4     13,6       18\n",
       "4            68,40           7 1991-05-01     20,7     12,2    16,45"
      ],
      "text/html": [
       "<div>\n",
       "<style scoped>\n",
       "    .dataframe tbody tr th:only-of-type {\n",
       "        vertical-align: middle;\n",
       "    }\n",
       "\n",
       "    .dataframe tbody tr th {\n",
       "        vertical-align: top;\n",
       "    }\n",
       "\n",
       "    .dataframe thead th {\n",
       "        text-align: right;\n",
       "    }\n",
       "</style>\n",
       "<table border=\"1\" class=\"dataframe\">\n",
       "  <thead>\n",
       "    <tr style=\"text-align: right;\">\n",
       "      <th></th>\n",
       "      <th>precipitation_mm</th>\n",
       "      <th>rainy_days</th>\n",
       "      <th>date</th>\n",
       "      <th>max_temp</th>\n",
       "      <th>min_temp</th>\n",
       "      <th>avg_temp</th>\n",
       "    </tr>\n",
       "  </thead>\n",
       "  <tbody>\n",
       "    <tr>\n",
       "      <th>0</th>\n",
       "      <td>190,00</td>\n",
       "      <td>7</td>\n",
       "      <td>1991-01-01</td>\n",
       "      <td>28,4</td>\n",
       "      <td>19,8</td>\n",
       "      <td>24,1</td>\n",
       "    </tr>\n",
       "    <tr>\n",
       "      <th>1</th>\n",
       "      <td>30,50</td>\n",
       "      <td>6</td>\n",
       "      <td>1991-02-01</td>\n",
       "      <td>27,8</td>\n",
       "      <td>17,8</td>\n",
       "      <td>22,8</td>\n",
       "    </tr>\n",
       "    <tr>\n",
       "      <th>2</th>\n",
       "      <td>55,00</td>\n",
       "      <td>8</td>\n",
       "      <td>1991-03-01</td>\n",
       "      <td>27,6</td>\n",
       "      <td>18,4</td>\n",
       "      <td>23</td>\n",
       "    </tr>\n",
       "    <tr>\n",
       "      <th>3</th>\n",
       "      <td>125,60</td>\n",
       "      <td>12</td>\n",
       "      <td>1991-04-01</td>\n",
       "      <td>22,4</td>\n",
       "      <td>13,6</td>\n",
       "      <td>18</td>\n",
       "    </tr>\n",
       "    <tr>\n",
       "      <th>4</th>\n",
       "      <td>68,40</td>\n",
       "      <td>7</td>\n",
       "      <td>1991-05-01</td>\n",
       "      <td>20,7</td>\n",
       "      <td>12,2</td>\n",
       "      <td>16,45</td>\n",
       "    </tr>\n",
       "  </tbody>\n",
       "</table>\n",
       "</div>"
      ]
     },
     "execution_count": 36,
     "metadata": {},
     "output_type": "execute_result"
    }
   ],
   "execution_count": 36
  },
  {
   "metadata": {
    "ExecuteTime": {
     "end_time": "2025-03-13T18:26:11.660439Z",
     "start_time": "2025-03-13T18:26:11.655814Z"
    }
   },
   "cell_type": "code",
   "source": "df_combined.to_csv('historico_clima.csv', index=False)",
   "id": "7fb0813ff5f9d010",
   "outputs": [],
   "execution_count": 37
  },
  {
   "metadata": {
    "ExecuteTime": {
     "end_time": "2025-03-13T18:26:11.673132Z",
     "start_time": "2025-03-13T18:26:11.670595Z"
    }
   },
   "cell_type": "code",
   "source": "",
   "id": "fde5944c4cb9a076",
   "outputs": [],
   "execution_count": null
  }
 ],
 "metadata": {
  "kernelspec": {
   "display_name": "Python 3",
   "language": "python",
   "name": "python3"
  },
  "language_info": {
   "codemirror_mode": {
    "name": "ipython",
    "version": 2
   },
   "file_extension": ".py",
   "mimetype": "text/x-python",
   "name": "python",
   "nbconvert_exporter": "python",
   "pygments_lexer": "ipython2",
   "version": "2.7.6"
  }
 },
 "nbformat": 4,
 "nbformat_minor": 5
}
